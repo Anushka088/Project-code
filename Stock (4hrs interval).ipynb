{
 "cells": [
  {
   "cell_type": "code",
   "execution_count": 1,
   "id": "daccdbfe-7db5-4546-9198-607b923b50de",
   "metadata": {},
   "outputs": [],
   "source": [
    "import numpy as np\n",
    "import pandas as pd\n",
    "import yfinance as yf\n",
    "import matplotlib.pyplot as plt\n",
    "import tensorflow as tf\n",
    "from tensorflow.keras.models import Sequential\n",
    "from tensorflow.keras.layers import LSTM, Dense, Dropout\n",
    "from sklearn.preprocessing import MinMaxScaler"
   ]
  },
  {
   "cell_type": "code",
   "execution_count": 2,
   "id": "47fb04fa-27c8-43a6-af82-1788f91897c1",
   "metadata": {},
   "outputs": [],
   "source": [
    "# Step 1: Fetch Intraday Stock Data (1-hour interval)\n",
    "def fetch_stock_data(ticker, period='30d', interval='1h'):\n",
    "    df = yf.download(ticker, period=period, interval=interval)\n",
    "    return df[['Close']]"
   ]
  },
  {
   "cell_type": "code",
   "execution_count": 26,
   "id": "e1b75089-1d19-4134-84ad-53300751fabd",
   "metadata": {},
   "outputs": [
    {
     "data": {
      "text/html": [
       "<div>\n",
       "<style scoped>\n",
       "    .dataframe tbody tr th:only-of-type {\n",
       "        vertical-align: middle;\n",
       "    }\n",
       "\n",
       "    .dataframe tbody tr th {\n",
       "        vertical-align: top;\n",
       "    }\n",
       "\n",
       "    .dataframe thead tr th {\n",
       "        text-align: left;\n",
       "    }\n",
       "\n",
       "    .dataframe thead tr:last-of-type th {\n",
       "        text-align: right;\n",
       "    }\n",
       "</style>\n",
       "<table border=\"1\" class=\"dataframe\">\n",
       "  <thead>\n",
       "    <tr>\n",
       "      <th>Price</th>\n",
       "      <th>Close</th>\n",
       "    </tr>\n",
       "    <tr>\n",
       "      <th>Ticker</th>\n",
       "      <th>AAPL</th>\n",
       "    </tr>\n",
       "    <tr>\n",
       "      <th>Datetime</th>\n",
       "      <th></th>\n",
       "    </tr>\n",
       "  </thead>\n",
       "  <tbody>\n",
       "    <tr>\n",
       "      <th>2025-03-14 13:30:00+00:00</th>\n",
       "      <td>210.378098</td>\n",
       "    </tr>\n",
       "    <tr>\n",
       "      <th>2025-03-14 14:30:00+00:00</th>\n",
       "      <td>211.929993</td>\n",
       "    </tr>\n",
       "    <tr>\n",
       "      <th>2025-03-14 15:30:00+00:00</th>\n",
       "      <td>212.230698</td>\n",
       "    </tr>\n",
       "    <tr>\n",
       "      <th>2025-03-14 16:30:00+00:00</th>\n",
       "      <td>212.315002</td>\n",
       "    </tr>\n",
       "    <tr>\n",
       "      <th>2025-03-14 17:30:00+00:00</th>\n",
       "      <td>211.244995</td>\n",
       "    </tr>\n",
       "    <tr>\n",
       "      <th>...</th>\n",
       "      <td>...</td>\n",
       "    </tr>\n",
       "    <tr>\n",
       "      <th>2025-04-25 15:30:00+00:00</th>\n",
       "      <td>208.591293</td>\n",
       "    </tr>\n",
       "    <tr>\n",
       "      <th>2025-04-25 16:30:00+00:00</th>\n",
       "      <td>209.370193</td>\n",
       "    </tr>\n",
       "    <tr>\n",
       "      <th>2025-04-25 17:30:00+00:00</th>\n",
       "      <td>208.504501</td>\n",
       "    </tr>\n",
       "    <tr>\n",
       "      <th>2025-04-25 18:30:00+00:00</th>\n",
       "      <td>208.220001</td>\n",
       "    </tr>\n",
       "    <tr>\n",
       "      <th>2025-04-25 19:30:00+00:00</th>\n",
       "      <td>209.229996</td>\n",
       "    </tr>\n",
       "  </tbody>\n",
       "</table>\n",
       "<p>210 rows × 1 columns</p>\n",
       "</div>"
      ],
      "text/plain": [
       "Price                           Close\n",
       "Ticker                           AAPL\n",
       "Datetime                             \n",
       "2025-03-14 13:30:00+00:00  210.378098\n",
       "2025-03-14 14:30:00+00:00  211.929993\n",
       "2025-03-14 15:30:00+00:00  212.230698\n",
       "2025-03-14 16:30:00+00:00  212.315002\n",
       "2025-03-14 17:30:00+00:00  211.244995\n",
       "...                               ...\n",
       "2025-04-25 15:30:00+00:00  208.591293\n",
       "2025-04-25 16:30:00+00:00  209.370193\n",
       "2025-04-25 17:30:00+00:00  208.504501\n",
       "2025-04-25 18:30:00+00:00  208.220001\n",
       "2025-04-25 19:30:00+00:00  209.229996\n",
       "\n",
       "[210 rows x 1 columns]"
      ]
     },
     "execution_count": 26,
     "metadata": {},
     "output_type": "execute_result"
    }
   ],
   "source": [
    "df"
   ]
  },
  {
   "cell_type": "code",
   "execution_count": 28,
   "id": "a1265b32-3512-4ed5-9ea0-8605d466690e",
   "metadata": {},
   "outputs": [
    {
     "data": {
      "text/html": [
       "<div>\n",
       "<style scoped>\n",
       "    .dataframe tbody tr th:only-of-type {\n",
       "        vertical-align: middle;\n",
       "    }\n",
       "\n",
       "    .dataframe tbody tr th {\n",
       "        vertical-align: top;\n",
       "    }\n",
       "\n",
       "    .dataframe thead tr th {\n",
       "        text-align: left;\n",
       "    }\n",
       "\n",
       "    .dataframe thead tr:last-of-type th {\n",
       "        text-align: right;\n",
       "    }\n",
       "</style>\n",
       "<table border=\"1\" class=\"dataframe\">\n",
       "  <thead>\n",
       "    <tr>\n",
       "      <th>Price</th>\n",
       "      <th>Close</th>\n",
       "    </tr>\n",
       "    <tr>\n",
       "      <th>Ticker</th>\n",
       "      <th>AAPL</th>\n",
       "    </tr>\n",
       "    <tr>\n",
       "      <th>Datetime</th>\n",
       "      <th></th>\n",
       "    </tr>\n",
       "  </thead>\n",
       "  <tbody>\n",
       "    <tr>\n",
       "      <th>2025-03-14 13:30:00+00:00</th>\n",
       "      <td>210.378098</td>\n",
       "    </tr>\n",
       "    <tr>\n",
       "      <th>2025-03-14 14:30:00+00:00</th>\n",
       "      <td>211.929993</td>\n",
       "    </tr>\n",
       "    <tr>\n",
       "      <th>2025-03-14 15:30:00+00:00</th>\n",
       "      <td>212.230698</td>\n",
       "    </tr>\n",
       "    <tr>\n",
       "      <th>2025-03-14 16:30:00+00:00</th>\n",
       "      <td>212.315002</td>\n",
       "    </tr>\n",
       "    <tr>\n",
       "      <th>2025-03-14 17:30:00+00:00</th>\n",
       "      <td>211.244995</td>\n",
       "    </tr>\n",
       "  </tbody>\n",
       "</table>\n",
       "</div>"
      ],
      "text/plain": [
       "Price                           Close\n",
       "Ticker                           AAPL\n",
       "Datetime                             \n",
       "2025-03-14 13:30:00+00:00  210.378098\n",
       "2025-03-14 14:30:00+00:00  211.929993\n",
       "2025-03-14 15:30:00+00:00  212.230698\n",
       "2025-03-14 16:30:00+00:00  212.315002\n",
       "2025-03-14 17:30:00+00:00  211.244995"
      ]
     },
     "execution_count": 28,
     "metadata": {},
     "output_type": "execute_result"
    }
   ],
   "source": [
    "df.head()"
   ]
  },
  {
   "cell_type": "code",
   "execution_count": 3,
   "id": "1acb7fad-45bc-4380-9022-93d9aaa3bb7d",
   "metadata": {},
   "outputs": [],
   "source": [
    "# Step 2: Prepare Data for LSTM (Predicting next 4th hour)\n",
    "def prepare_data(df, lookback=60, predict_ahead=4):\n",
    "    scaler = MinMaxScaler(feature_range=(0,1))\n",
    "    scaled_data = scaler.fit_transform(df)\n",
    "    X, y = [], []\n",
    "    for i in range(lookback, len(scaled_data) - predict_ahead):\n",
    "        X.append(scaled_data[i-lookback:i, 0])\n",
    "        y.append(scaled_data[i + predict_ahead - 1, 0])\n",
    "    return np.array(X), np.array(y), scaler"
   ]
  },
  {
   "cell_type": "code",
   "execution_count": 4,
   "id": "50236698-4295-434a-84e0-ab9ed4b0422e",
   "metadata": {},
   "outputs": [],
   "source": [
    "# Step 3: Build the LSTM Model\n",
    "def build_lstm_model(input_shape):\n",
    "    model = Sequential([\n",
    "        LSTM(50, return_sequences=True, input_shape=input_shape),\n",
    "        Dropout(0.2),\n",
    "        LSTM(50, return_sequences=False),\n",
    "        Dropout(0.2),\n",
    "        Dense(25),\n",
    "        Dense(1)\n",
    "    ])\n",
    "    model.compile(optimizer='adam', loss='mean_squared_error')\n",
    "    return model\n"
   ]
  },
  {
   "cell_type": "code",
   "execution_count": 5,
   "id": "6fd0569b-b33d-4d8d-941d-5294f090a8f3",
   "metadata": {},
   "outputs": [
    {
     "name": "stdout",
     "output_type": "stream",
     "text": [
      "YF.download() has changed argument auto_adjust default to True\n"
     ]
    },
    {
     "name": "stderr",
     "output_type": "stream",
     "text": [
      "[*********************100%***********************]  1 of 1 completed\n"
     ]
    }
   ],
   "source": [
    "# Fetch data\n",
    "ticker = 'AAPL'  # Change as needed\n",
    "df = fetch_stock_data(ticker)"
   ]
  },
  {
   "cell_type": "code",
   "execution_count": 6,
   "id": "3a484bc1-7b1b-4b6b-a637-dd80d1cc04e4",
   "metadata": {},
   "outputs": [],
   "source": [
    "# Prepare data\n",
    "lookback = 60  # Hours used for prediction\n",
    "predict_ahead = 4  # Predict 4th hour ahead\n",
    "X, y, scaler = prepare_data(df, lookback, predict_ahead)\n",
    "X = X.reshape((X.shape[0], X.shape[1], 1))"
   ]
  },
  {
   "cell_type": "code",
   "execution_count": 7,
   "id": "2fac5b92-d768-433f-a719-233d61abb3cc",
   "metadata": {},
   "outputs": [],
   "source": [
    "# Split into train and test sets\n",
    "train_size = int(len(X) * 0.8)\n",
    "X_train, X_test, y_train, y_test = X[:train_size], X[train_size:], y[:train_size], y[train_size:]"
   ]
  },
  {
   "cell_type": "code",
   "execution_count": 30,
   "id": "bc237be1-6d3c-4f10-83d0-c7e87d848cc0",
   "metadata": {},
   "outputs": [
    {
     "name": "stdout",
     "output_type": "stream",
     "text": [
      "Epoch 1/10\n"
     ]
    },
    {
     "name": "stderr",
     "output_type": "stream",
     "text": [
      "C:\\Users\\anush\\anaconda3\\Lib\\site-packages\\keras\\src\\layers\\rnn\\rnn.py:200: UserWarning: Do not pass an `input_shape`/`input_dim` argument to a layer. When using Sequential models, prefer using an `Input(shape)` object as the first layer in the model instead.\n",
      "  super().__init__(**kwargs)\n"
     ]
    },
    {
     "name": "stdout",
     "output_type": "stream",
     "text": [
      "\u001b[1m4/4\u001b[0m \u001b[32m━━━━━━━━━━━━━━━━━━━━\u001b[0m\u001b[37m\u001b[0m \u001b[1m6s\u001b[0m 76ms/step - loss: 0.2721\n",
      "Epoch 2/10\n",
      "\u001b[1m4/4\u001b[0m \u001b[32m━━━━━━━━━━━━━━━━━━━━\u001b[0m\u001b[37m\u001b[0m \u001b[1m0s\u001b[0m 69ms/step - loss: 0.0559\n",
      "Epoch 3/10\n",
      "\u001b[1m4/4\u001b[0m \u001b[32m━━━━━━━━━━━━━━━━━━━━\u001b[0m\u001b[37m\u001b[0m \u001b[1m0s\u001b[0m 81ms/step - loss: 0.0563\n",
      "Epoch 4/10\n",
      "\u001b[1m4/4\u001b[0m \u001b[32m━━━━━━━━━━━━━━━━━━━━\u001b[0m\u001b[37m\u001b[0m \u001b[1m0s\u001b[0m 87ms/step - loss: 0.0499\n",
      "Epoch 5/10\n",
      "\u001b[1m4/4\u001b[0m \u001b[32m━━━━━━━━━━━━━━━━━━━━\u001b[0m\u001b[37m\u001b[0m \u001b[1m0s\u001b[0m 76ms/step - loss: 0.0559\n",
      "Epoch 6/10\n",
      "\u001b[1m4/4\u001b[0m \u001b[32m━━━━━━━━━━━━━━━━━━━━\u001b[0m\u001b[37m\u001b[0m \u001b[1m0s\u001b[0m 84ms/step - loss: 0.0436\n",
      "Epoch 7/10\n",
      "\u001b[1m4/4\u001b[0m \u001b[32m━━━━━━━━━━━━━━━━━━━━\u001b[0m\u001b[37m\u001b[0m \u001b[1m0s\u001b[0m 86ms/step - loss: 0.0431\n",
      "Epoch 8/10\n",
      "\u001b[1m4/4\u001b[0m \u001b[32m━━━━━━━━━━━━━━━━━━━━\u001b[0m\u001b[37m\u001b[0m \u001b[1m0s\u001b[0m 83ms/step - loss: 0.0464\n",
      "Epoch 9/10\n",
      "\u001b[1m4/4\u001b[0m \u001b[32m━━━━━━━━━━━━━━━━━━━━\u001b[0m\u001b[37m\u001b[0m \u001b[1m0s\u001b[0m 72ms/step - loss: 0.0355\n",
      "Epoch 10/10\n",
      "\u001b[1m4/4\u001b[0m \u001b[32m━━━━━━━━━━━━━━━━━━━━\u001b[0m\u001b[37m\u001b[0m \u001b[1m0s\u001b[0m 69ms/step - loss: 0.0318\n"
     ]
    },
    {
     "data": {
      "text/plain": [
       "<keras.src.callbacks.history.History at 0x1924a141b50>"
      ]
     },
     "execution_count": 30,
     "metadata": {},
     "output_type": "execute_result"
    }
   ],
   "source": [
    "# Build and train model\n",
    "model = build_lstm_model((X_train.shape[1], 1))\n",
    "model.fit(X_train, y_train, batch_size=32, epochs=10)"
   ]
  },
  {
   "cell_type": "code",
   "execution_count": 9,
   "id": "f4f80b60-3ba8-4d09-a1f9-6efa22e8364c",
   "metadata": {},
   "outputs": [
    {
     "name": "stdout",
     "output_type": "stream",
     "text": [
      "\u001b[1m1/1\u001b[0m \u001b[32m━━━━━━━━━━━━━━━━━━━━\u001b[0m\u001b[37m\u001b[0m \u001b[1m1s\u001b[0m 600ms/step\n"
     ]
    }
   ],
   "source": [
    "# Predict next 4th hour stock price\n",
    "last_lookback_hours = df[-lookback:].values\n",
    "last_lookback_scaled = scaler.transform(last_lookback_hours)\n",
    "last_lookback_scaled = last_lookback_scaled.reshape(1, lookback, 1)\n",
    "predicted_price = scaler.inverse_transform(model.predict(last_lookback_scaled))"
   ]
  },
  {
   "cell_type": "code",
   "execution_count": 10,
   "id": "cb1791c2-10a2-40e8-96ba-478df2d86ace",
   "metadata": {},
   "outputs": [
    {
     "name": "stdout",
     "output_type": "stream",
     "text": [
      "Predicted Closing Price for Next 4th Hour: $202.61\n"
     ]
    }
   ],
   "source": [
    "print(f'Predicted Closing Price for Next 4th Hour: ${predicted_price[0][0]:.2f}')"
   ]
  },
  {
   "cell_type": "code",
   "execution_count": 11,
   "id": "4c1603db-8e3b-4fcc-8a33-03776419fa10",
   "metadata": {},
   "outputs": [
    {
     "data": {
      "image/png": "[encoded data removed]",
      "text/plain": [
       "<Figure size 1200x600 with 1 Axes>"
      ]
     },
     "metadata": {},
     "output_type": "display_data"
    }
   ],
   "source": [
    "# Plot results\n",
    "plt.figure(figsize=(12,6))\n",
    "plt.plot(df.index, df['Close'], label='Actual Price')\n",
    "plt.axvline(df.index[-1], color='red', linestyle='--', label='Prediction Point')\n",
    "plt.scatter(df.index[-1], predicted_price[0][0], color='green', label='Predicted Price')\n",
    "plt.legend()\n",
    "plt.title(f'{ticker} Stock Price Prediction (Next 4th Hour)')\n",
    "plt.xticks(rotation=45)\n",
    "plt.tight_layout()\n",
    "plt.show()"
   ]
  },
  {
   "cell_type": "code",
   "execution_count": 12,
   "id": "8eca496f-b314-4365-82d0-8357d1a40990",
   "metadata": {},
   "outputs": [
    {
     "name": "stdout",
     "output_type": "stream",
     "text": [
      "\u001b[1m1/1\u001b[0m \u001b[32m━━━━━━━━━━━━━━━━━━━━\u001b[0m\u001b[37m\u001b[0m \u001b[1m1s\u001b[0m 783ms/step\n",
      "Mean Absolute Percentage Error (MAPE): 3.40%\n",
      "Approx. Prediction Accuracy: 96.60%\n"
     ]
    }
   ],
   "source": [
    "from sklearn.metrics import mean_absolute_percentage_error\n",
    "\n",
    "# Inverse transform the test predictions\n",
    "predictions = model.predict(X_test)\n",
    "predictions = scaler.inverse_transform(predictions.reshape(-1, 1))\n",
    "\n",
    "# Inverse transform actual y_test values\n",
    "actual = scaler.inverse_transform(y_test.reshape(-1, 1))\n",
    "\n",
    "# Assuming predictions and actual are already inverse-transformed\n",
    "mape = mean_absolute_percentage_error(actual, predictions)\n",
    "accuracy = 100 - mape * 100\n",
    "\n",
    "print(f\"Mean Absolute Percentage Error (MAPE): {mape * 100:.2f}%\")\n",
    "print(f\"Approx. Prediction Accuracy: {accuracy:.2f}%\")"
   ]
  }
 ],
 "metadata": {
  "kernelspec": {
   "display_name": "Python 3 (ipykernel)",
   "language": "python",
   "name": "python3"
  },
  "language_info": {
   "codemirror_mode": {
    "name": "ipython",
    "version": 3
   },
   "file_extension": ".py",
   "mimetype": "text/x-python",
   "name": "python",
   "nbconvert_exporter": "python",
   "pygments_lexer": "ipython3",
   "version": "3.12.7"
  }
 },
 "nbformat": 4,
 "nbformat_minor": 5
}
